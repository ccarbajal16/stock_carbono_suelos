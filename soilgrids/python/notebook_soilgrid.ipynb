{
 "cells": [
  {
   "cell_type": "markdown",
   "metadata": {},
   "source": [
    "\n",
    "![](stock_carbono_suelos/soilgris/images/SoilGrids_banner_web.png)\n",
    "Primero cargue la clase WebCoverageService desde OWSLib y cree una conexión a un servicio. La lista de los servicios lo puede revisar en <https://maps.isric.org/>"
   ]
  },
  {
   "cell_type": "code",
   "execution_count": null,
   "metadata": {},
   "outputs": [],
   "source": [
    "from owslib.wcs import WebCoverageService\n",
    "wcs = WebCoverageService('https://maps.isric.org/mapserv?map=/map/ocs.map', version='1.0.0')"
   ]
  },
  {
   "cell_type": "markdown",
   "metadata": {},
   "source": [
    "Para obtener la lista completa de coberturas disponibles del servicio seleccionado, la misma se encuentra en la propiedad de contenido:"
   ]
  },
  {
   "cell_type": "code",
   "execution_count": null,
   "metadata": {},
   "outputs": [],
   "source": [
    "print(list(wcs.contents))"
   ]
  },
  {
   "cell_type": "markdown",
   "metadata": {},
   "source": [
    "Para determinar los sistemas de referencia que soporta el servicio solicitado usamos:"
   ]
  },
  {
   "cell_type": "code",
   "execution_count": null,
   "metadata": {},
   "outputs": [],
   "source": [
    "wcs.contents['ocs_0-30cm_mean'].supportedCRS"
   ]
  },
  {
   "cell_type": "markdown",
   "metadata": {},
   "source": [
    "Para determinar los formatos de salida que soporta el servicio solicitado usamos:"
   ]
  },
  {
   "cell_type": "code",
   "execution_count": null,
   "metadata": {},
   "outputs": [],
   "source": [
    "wcs.contents['ocs_0-30cm_mean'].supportedFormats\n"
   ]
  },
  {
   "cell_type": "code",
   "execution_count": null,
   "metadata": {},
   "outputs": [],
   "source": [
    "# Incorporamos un cuadro delimitador que coincida para el ejemplo con la Región Junín del Perú\n",
    "bbox = (-8486988.061220681, -1438756.3180922759, -8103389.852369716, -1150398.5580024184)"
   ]
  },
  {
   "cell_type": "code",
   "execution_count": null,
   "metadata": {},
   "outputs": [],
   "source": [
    "# El método getCoverage ahora se puede usar para buscar el segmento del mapa dentro del cuadro delimitador.\n",
    "response = wcs.getCoverage(\n",
    "    identifier='ocs_0-30cm_mean',\n",
    "    crs='urn:ogc:def:crs:EPSG::152160',\n",
    "    bbox=bbox,\n",
    "    resx=250, resy=250,\n",
    "    format='GEOTIFF_INT16')"
   ]
  },
  {
   "cell_type": "code",
   "execution_count": null,
   "metadata": {},
   "outputs": [],
   "source": [
    "# Ahora busque la cobertura de Junín y guárdela en el disco:\n",
    "with open('./outputs/junin_ocs_0-30_mean.tif', 'wb') as file:\n",
    "    file.write(response.read())"
   ]
  },
  {
   "cell_type": "code",
   "execution_count": null,
   "metadata": {},
   "outputs": [],
   "source": [
    "#TODO Interacción empleando la librería Rasterio\n",
    "import rasterio\n",
    "ocs = rasterio.open(\"./outputs/junin_ocs_0-30_mean.tif\", driver=\"GTiff\")"
   ]
  },
  {
   "cell_type": "code",
   "execution_count": null,
   "metadata": {},
   "outputs": [],
   "source": [
    "#TODO Visualizamos nuestro mapa con la clase Plot\n",
    "from rasterio import plot\n",
    "%matplotlib inline\n",
    "#! Para determinar los colores del mapa revisar https://matplotlib.org/stable/tutorials/colors/colormaps.html\n",
    "plot.show(ocs,  title='Mean ocs between 0 and 30 cm deep in Junin-Peru', cmap='gist_rainbow')"
   ]
  }
 ],
 "metadata": {
  "interpreter": {
   "hash": "ee922d0dce85f0729109cb9668b040e44522c730215e2f1a0f27baf44b3535c9"
  },
  "kernelspec": {
   "display_name": "Python 3.9.2 64-bit (conda)",
   "name": "python3"
  },
  "language_info": {
   "codemirror_mode": {
    "name": "ipython",
    "version": 3
   },
   "file_extension": ".py",
   "mimetype": "text/x-python",
   "name": "python",
   "nbconvert_exporter": "python",
   "pygments_lexer": "ipython3",
   "version": "3.9.2"
  },
  "orig_nbformat": 4
 },
 "nbformat": 4,
 "nbformat_minor": 2
}
