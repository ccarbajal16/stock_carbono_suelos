{
 "cells": [
  {
   "cell_type": "markdown",
   "source": [
    "![](soilgris/images/SoilGrids_banner_web.png)\r\n",
    "Primero cargue la clase WebCoverageService desde OWSLib y cree una conexión a un servicio. La lista de los servicios lo puede revisar en <https://maps.isric.org/>"
   ],
   "metadata": {}
  },
  {
   "cell_type": "code",
   "execution_count": null,
   "source": [
    "from owslib.wcs import WebCoverageService\r\n",
    "wcs = WebCoverageService('https://maps.isric.org/mapserv?map=/map/ocs.map', version='1.0.0')"
   ],
   "outputs": [],
   "metadata": {}
  },
  {
   "cell_type": "markdown",
   "source": [
    "Para obtener la lista completa de coberturas disponibles del servicio seleccionado, la misma se encuentra en la propiedad de contenido:"
   ],
   "metadata": {}
  },
  {
   "cell_type": "code",
   "execution_count": null,
   "source": [
    "print(list(wcs.contents))"
   ],
   "outputs": [],
   "metadata": {}
  },
  {
   "cell_type": "markdown",
   "source": [
    "Para determinar los sistemas de referencia que soporta el servicio solicitado usamos:"
   ],
   "metadata": {}
  },
  {
   "cell_type": "code",
   "execution_count": null,
   "source": [
    "wcs.contents['ocs_0-30cm_mean'].supportedCRS"
   ],
   "outputs": [],
   "metadata": {}
  },
  {
   "cell_type": "markdown",
   "source": [
    "Para determinar los formatos de salida que soporta el servicio solicitado usamos:"
   ],
   "metadata": {}
  },
  {
   "cell_type": "code",
   "execution_count": null,
   "source": [
    "wcs.contents['ocs_0-30cm_mean'].supportedFormats\r\n"
   ],
   "outputs": [],
   "metadata": {}
  },
  {
   "cell_type": "code",
   "execution_count": null,
   "source": [
    "# Incorporamos un cuadro delimitador que coincida para el ejemplo con la Región Junín del Perú\r\n",
    "bbox = (-8486988.061220681, -1438756.3180922759, -8103389.852369716, -1150398.5580024184)"
   ],
   "outputs": [],
   "metadata": {}
  },
  {
   "cell_type": "code",
   "execution_count": null,
   "source": [
    "# El método getCoverage ahora se puede usar para buscar el segmento del mapa dentro del cuadro delimitador.\r\n",
    "response = wcs.getCoverage(\r\n",
    "    identifier='ocs_0-30cm_mean',\r\n",
    "    crs='urn:ogc:def:crs:EPSG::152160',\r\n",
    "    bbox=bbox,\r\n",
    "    resx=250, resy=250,\r\n",
    "    format='GEOTIFF_INT16')"
   ],
   "outputs": [],
   "metadata": {}
  },
  {
   "cell_type": "code",
   "execution_count": null,
   "source": [
    "# Ahora busque la cobertura de Junín y guárdela en el disco:\r\n",
    "with open('./output/junin_ocs_0-30_mean.tif', 'wb') as file:\r\n",
    "    file.write(response.read())"
   ],
   "outputs": [],
   "metadata": {}
  },
  {
   "cell_type": "code",
   "execution_count": null,
   "source": [
    "#TODO Interacción empleando la librería Rasterio\r\n",
    "import rasterio\r\n",
    "ocs = rasterio.open(\"./outputs/junin_ocs_0-30_mean.tif\", driver=\"GTiff\")"
   ],
   "outputs": [],
   "metadata": {}
  },
  {
   "cell_type": "code",
   "execution_count": null,
   "source": [
    "#TODO Visualizamos nuestro mapa con la clase Plot\r\n",
    "from rasterio import plot\r\n",
    "%matplotlib inline\r\n",
    "#! Para determinar los colores del mapa revisar https://matplotlib.org/stable/tutorials/colors/colormaps.html\r\n",
    "plot.show(ocs,  title='Mean ocs between 0 and 30 cm deep in Junin-Peru', cmap='gist_rainbow')"
   ],
   "outputs": [],
   "metadata": {}
  }
 ],
 "metadata": {
  "orig_nbformat": 4,
  "language_info": {
   "name": "python",
   "version": "3.9.2",
   "mimetype": "text/x-python",
   "codemirror_mode": {
    "name": "ipython",
    "version": 3
   },
   "pygments_lexer": "ipython3",
   "nbconvert_exporter": "python",
   "file_extension": ".py"
  },
  "kernelspec": {
   "name": "python3",
   "display_name": "Python 3.9.2 64-bit (conda)"
  },
  "interpreter": {
   "hash": "ee922d0dce85f0729109cb9668b040e44522c730215e2f1a0f27baf44b3535c9"
  }
 },
 "nbformat": 4,
 "nbformat_minor": 2
}