{
 "cells": [
  {
   "cell_type": "code",
   "execution_count": null,
   "source": [
    "Primero cargue la clase WebCoverageService desde OWSLib y cree una conexión a un servicio, en este caso el que sirve las predicciones para la densidad masiva:"
   ],
   "outputs": [],
   "metadata": {}
  },
  {
   "cell_type": "code",
   "execution_count": null,
   "source": [
    "from owslib.wcs import WebCoverageService\r\n",
    "wcs = WebCoverageService('https://maps.isric.org/mapserv?map=/map/ocs.map', version='2.0.1')"
   ],
   "outputs": [],
   "metadata": {}
  }
 ],
 "metadata": {
  "orig_nbformat": 4,
  "language_info": {
   "name": "python",
   "version": "3.9.2"
  },
  "kernelspec": {
   "name": "python3",
   "display_name": "Python 3.9.2 64-bit (conda)"
  },
  "interpreter": {
   "hash": "ee922d0dce85f0729109cb9668b040e44522c730215e2f1a0f27baf44b3535c9"
  }
 },
 "nbformat": 4,
 "nbformat_minor": 2
}